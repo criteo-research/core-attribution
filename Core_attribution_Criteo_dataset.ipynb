{
 "cells": [
  {
   "cell_type": "code",
   "execution_count": null,
   "metadata": {
    "colab": {
     "base_uri": "https://localhost:8080/",
     "height": 102
    },
    "id": "AVKIy5ziEkf6",
    "outputId": "94074a74-d7ca-4777-ae1a-e65f64e85c7e"
   },
   "outputs": [],
   "source": [
    "# On Google colab, we must ensure scipy is up to date\n",
    "!pip install -U scipy==1.5.3"
   ]
  },
  {
   "cell_type": "code",
   "execution_count": null,
   "metadata": {},
   "outputs": [],
   "source": []
  },
  {
   "cell_type": "code",
   "execution_count": 1,
   "metadata": {
    "id": "G3aa2d_zuSjt"
   },
   "outputs": [],
   "source": [
    "import os\n",
    "import urllib.request\n",
    "import zipfile\n",
    "import pandas as pd\n",
    "import numpy as np\n",
    "import scipy\n",
    "import matplotlib.pyplot as plt\n",
    "import scipy.sparse\n",
    "from joblib import Parallel, delayed\n",
    "from enum import Enum\n",
    "\n",
    "from sklearn.linear_model import LogisticRegression\n",
    "from sklearn.feature_extraction import FeatureHasher\n",
    "from matplotlib.ticker import PercentFormatter\n",
    "\n",
    "\n",
    "plt.style.use('ggplot')"
   ]
  },
  {
   "cell_type": "markdown",
   "metadata": {
    "id": "OWC5yFQ-0BIB"
   },
   "source": [
    "## Download Data"
   ]
  },
  {
   "cell_type": "code",
   "execution_count": 2,
   "metadata": {
    "id": "mxHgyoENubTF"
   },
   "outputs": [],
   "source": [
    "def download_dataset():\n",
    "  urllib.request.urlretrieve(\n",
    "      \"https://s3-eu-west-1.amazonaws.com/attribution-dataset/criteo_attribution_dataset.zip\", \n",
    "      \"criteo_attribution_dataset.zip\"\n",
    "  )\n",
    "  \n",
    "  with zipfile.ZipFile(\"criteo_attribution_dataset.zip\", \"r\") as zip_ref:\n",
    "    zip_ref.extractall(\"criteo_attribution_dataset\")"
   ]
  },
  {
   "cell_type": "code",
   "execution_count": 3,
   "metadata": {
    "id": "L0DH4wUrvQQV"
   },
   "outputs": [],
   "source": [
    "dataset_path = 'criteo_attribution_dataset/criteo_attribution_dataset.tsv.gz'\n",
    "\n",
    "if not os.path.exists(dataset_path):\n",
    "  download_dataset()\n",
    "\n",
    "cache_mtc_results_dir = 'cache_mtc_results_dir'\n",
    "os.makedirs(cache_mtc_results_dir, exist_ok=True)"
   ]
  },
  {
   "cell_type": "markdown",
   "metadata": {
    "id": "ssG5zDpb0FqL"
   },
   "source": [
    "## Preprocessing"
   ]
  },
  {
   "cell_type": "markdown",
   "metadata": {
    "id": "gJIDWqR_1cUZ"
   },
   "source": [
    "### Take a data sample\n",
    "In order to run the code on Google colab or a personal computer, we might want to sub-sample a part of the user timelines."
   ]
  },
  {
   "cell_type": "code",
   "execution_count": 4,
   "metadata": {
    "id": "HLvBtGE50MEV"
   },
   "outputs": [],
   "source": [
    "df = pd.read_csv(dataset_path, sep='\\t', compression=\"gzip\")"
   ]
  },
  {
   "cell_type": "code",
   "execution_count": 5,
   "metadata": {
    "colab": {
     "base_uri": "https://localhost:8080/",
     "height": 439
    },
    "id": "XfHUQxxy0zgI",
    "outputId": "00ba24b5-7834-49e1-fe3c-c6287d94cb3d"
   },
   "outputs": [
    {
     "data": {
      "text/html": [
       "<div>\n",
       "<style scoped>\n",
       "    .dataframe tbody tr th:only-of-type {\n",
       "        vertical-align: middle;\n",
       "    }\n",
       "\n",
       "    .dataframe tbody tr th {\n",
       "        vertical-align: top;\n",
       "    }\n",
       "\n",
       "    .dataframe thead th {\n",
       "        text-align: right;\n",
       "    }\n",
       "</style>\n",
       "<table border=\"1\" class=\"dataframe\">\n",
       "  <thead>\n",
       "    <tr style=\"text-align: right;\">\n",
       "      <th></th>\n",
       "      <th>timestamp</th>\n",
       "      <th>uid</th>\n",
       "      <th>campaign</th>\n",
       "      <th>conversion</th>\n",
       "      <th>conversion_timestamp</th>\n",
       "      <th>conversion_id</th>\n",
       "      <th>attribution</th>\n",
       "      <th>click</th>\n",
       "      <th>click_pos</th>\n",
       "      <th>click_nb</th>\n",
       "      <th>...</th>\n",
       "      <th>time_since_last_click</th>\n",
       "      <th>cat1</th>\n",
       "      <th>cat2</th>\n",
       "      <th>cat3</th>\n",
       "      <th>cat4</th>\n",
       "      <th>cat5</th>\n",
       "      <th>cat6</th>\n",
       "      <th>cat7</th>\n",
       "      <th>cat8</th>\n",
       "      <th>cat9</th>\n",
       "    </tr>\n",
       "  </thead>\n",
       "  <tbody>\n",
       "    <tr>\n",
       "      <th>0</th>\n",
       "      <td>0</td>\n",
       "      <td>20073966</td>\n",
       "      <td>22589171</td>\n",
       "      <td>0</td>\n",
       "      <td>-1</td>\n",
       "      <td>-1</td>\n",
       "      <td>0</td>\n",
       "      <td>0</td>\n",
       "      <td>-1</td>\n",
       "      <td>-1</td>\n",
       "      <td>...</td>\n",
       "      <td>-1</td>\n",
       "      <td>5824233</td>\n",
       "      <td>9312274</td>\n",
       "      <td>3490278</td>\n",
       "      <td>29196072</td>\n",
       "      <td>11409686</td>\n",
       "      <td>1973606</td>\n",
       "      <td>25162884</td>\n",
       "      <td>29196072</td>\n",
       "      <td>29196072</td>\n",
       "    </tr>\n",
       "    <tr>\n",
       "      <th>1</th>\n",
       "      <td>2</td>\n",
       "      <td>24607497</td>\n",
       "      <td>884761</td>\n",
       "      <td>0</td>\n",
       "      <td>-1</td>\n",
       "      <td>-1</td>\n",
       "      <td>0</td>\n",
       "      <td>0</td>\n",
       "      <td>-1</td>\n",
       "      <td>-1</td>\n",
       "      <td>...</td>\n",
       "      <td>423858</td>\n",
       "      <td>30763035</td>\n",
       "      <td>9312274</td>\n",
       "      <td>14584482</td>\n",
       "      <td>29196072</td>\n",
       "      <td>11409686</td>\n",
       "      <td>1973606</td>\n",
       "      <td>22644417</td>\n",
       "      <td>9312274</td>\n",
       "      <td>21091111</td>\n",
       "    </tr>\n",
       "    <tr>\n",
       "      <th>2</th>\n",
       "      <td>2</td>\n",
       "      <td>28474333</td>\n",
       "      <td>18975823</td>\n",
       "      <td>0</td>\n",
       "      <td>-1</td>\n",
       "      <td>-1</td>\n",
       "      <td>0</td>\n",
       "      <td>0</td>\n",
       "      <td>-1</td>\n",
       "      <td>-1</td>\n",
       "      <td>...</td>\n",
       "      <td>8879</td>\n",
       "      <td>138937</td>\n",
       "      <td>9312274</td>\n",
       "      <td>10769841</td>\n",
       "      <td>29196072</td>\n",
       "      <td>5824237</td>\n",
       "      <td>138937</td>\n",
       "      <td>1795451</td>\n",
       "      <td>29196072</td>\n",
       "      <td>15351056</td>\n",
       "    </tr>\n",
       "    <tr>\n",
       "      <th>3</th>\n",
       "      <td>3</td>\n",
       "      <td>7306395</td>\n",
       "      <td>29427842</td>\n",
       "      <td>1</td>\n",
       "      <td>1449193</td>\n",
       "      <td>3063962</td>\n",
       "      <td>0</td>\n",
       "      <td>1</td>\n",
       "      <td>0</td>\n",
       "      <td>7</td>\n",
       "      <td>...</td>\n",
       "      <td>-1</td>\n",
       "      <td>28928366</td>\n",
       "      <td>26597095</td>\n",
       "      <td>12435261</td>\n",
       "      <td>23549932</td>\n",
       "      <td>5824237</td>\n",
       "      <td>1973606</td>\n",
       "      <td>9180723</td>\n",
       "      <td>29841067</td>\n",
       "      <td>29196072</td>\n",
       "    </tr>\n",
       "    <tr>\n",
       "      <th>4</th>\n",
       "      <td>3</td>\n",
       "      <td>25357769</td>\n",
       "      <td>13365547</td>\n",
       "      <td>0</td>\n",
       "      <td>-1</td>\n",
       "      <td>-1</td>\n",
       "      <td>0</td>\n",
       "      <td>0</td>\n",
       "      <td>-1</td>\n",
       "      <td>-1</td>\n",
       "      <td>...</td>\n",
       "      <td>-1</td>\n",
       "      <td>138937</td>\n",
       "      <td>26597094</td>\n",
       "      <td>31616034</td>\n",
       "      <td>29196072</td>\n",
       "      <td>11409684</td>\n",
       "      <td>26597096</td>\n",
       "      <td>4480345</td>\n",
       "      <td>29196072</td>\n",
       "      <td>29196072</td>\n",
       "    </tr>\n",
       "    <tr>\n",
       "      <th>...</th>\n",
       "      <td>...</td>\n",
       "      <td>...</td>\n",
       "      <td>...</td>\n",
       "      <td>...</td>\n",
       "      <td>...</td>\n",
       "      <td>...</td>\n",
       "      <td>...</td>\n",
       "      <td>...</td>\n",
       "      <td>...</td>\n",
       "      <td>...</td>\n",
       "      <td>...</td>\n",
       "      <td>...</td>\n",
       "      <td>...</td>\n",
       "      <td>...</td>\n",
       "      <td>...</td>\n",
       "      <td>...</td>\n",
       "      <td>...</td>\n",
       "      <td>...</td>\n",
       "      <td>...</td>\n",
       "      <td>...</td>\n",
       "      <td>...</td>\n",
       "    </tr>\n",
       "    <tr>\n",
       "      <th>16468022</th>\n",
       "      <td>2671199</td>\n",
       "      <td>5767906</td>\n",
       "      <td>4869923</td>\n",
       "      <td>0</td>\n",
       "      <td>-1</td>\n",
       "      <td>-1</td>\n",
       "      <td>0</td>\n",
       "      <td>1</td>\n",
       "      <td>-1</td>\n",
       "      <td>-1</td>\n",
       "      <td>...</td>\n",
       "      <td>482560</td>\n",
       "      <td>30763035</td>\n",
       "      <td>26597095</td>\n",
       "      <td>13113052</td>\n",
       "      <td>29196072</td>\n",
       "      <td>5824236</td>\n",
       "      <td>30763035</td>\n",
       "      <td>18391143</td>\n",
       "      <td>29196072</td>\n",
       "      <td>8661623</td>\n",
       "    </tr>\n",
       "    <tr>\n",
       "      <th>16468023</th>\n",
       "      <td>2671199</td>\n",
       "      <td>6852682</td>\n",
       "      <td>10002432</td>\n",
       "      <td>0</td>\n",
       "      <td>-1</td>\n",
       "      <td>-1</td>\n",
       "      <td>0</td>\n",
       "      <td>0</td>\n",
       "      <td>-1</td>\n",
       "      <td>-1</td>\n",
       "      <td>...</td>\n",
       "      <td>971748</td>\n",
       "      <td>25259032</td>\n",
       "      <td>9312274</td>\n",
       "      <td>10979162</td>\n",
       "      <td>29196072</td>\n",
       "      <td>32440044</td>\n",
       "      <td>29196072</td>\n",
       "      <td>27259439</td>\n",
       "      <td>29196072</td>\n",
       "      <td>8661620</td>\n",
       "    </tr>\n",
       "    <tr>\n",
       "      <th>16468024</th>\n",
       "      <td>2671199</td>\n",
       "      <td>16638720</td>\n",
       "      <td>7061828</td>\n",
       "      <td>0</td>\n",
       "      <td>-1</td>\n",
       "      <td>-1</td>\n",
       "      <td>0</td>\n",
       "      <td>0</td>\n",
       "      <td>-1</td>\n",
       "      <td>-1</td>\n",
       "      <td>...</td>\n",
       "      <td>268431</td>\n",
       "      <td>30763035</td>\n",
       "      <td>5824235</td>\n",
       "      <td>29542751</td>\n",
       "      <td>29196072</td>\n",
       "      <td>5824237</td>\n",
       "      <td>29196072</td>\n",
       "      <td>3696777</td>\n",
       "      <td>29196072</td>\n",
       "      <td>21091111</td>\n",
       "    </tr>\n",
       "    <tr>\n",
       "      <th>16468025</th>\n",
       "      <td>2671199</td>\n",
       "      <td>3032300</td>\n",
       "      <td>5061834</td>\n",
       "      <td>0</td>\n",
       "      <td>-1</td>\n",
       "      <td>-1</td>\n",
       "      <td>0</td>\n",
       "      <td>1</td>\n",
       "      <td>-1</td>\n",
       "      <td>-1</td>\n",
       "      <td>...</td>\n",
       "      <td>-1</td>\n",
       "      <td>1973606</td>\n",
       "      <td>26597096</td>\n",
       "      <td>28944164</td>\n",
       "      <td>29196072</td>\n",
       "      <td>26611392</td>\n",
       "      <td>1973606</td>\n",
       "      <td>5642940</td>\n",
       "      <td>14911188</td>\n",
       "      <td>29196072</td>\n",
       "    </tr>\n",
       "    <tr>\n",
       "      <th>16468026</th>\n",
       "      <td>2671199</td>\n",
       "      <td>23160808</td>\n",
       "      <td>15398570</td>\n",
       "      <td>0</td>\n",
       "      <td>-1</td>\n",
       "      <td>-1</td>\n",
       "      <td>0</td>\n",
       "      <td>0</td>\n",
       "      <td>-1</td>\n",
       "      <td>-1</td>\n",
       "      <td>...</td>\n",
       "      <td>294889</td>\n",
       "      <td>30763035</td>\n",
       "      <td>28928366</td>\n",
       "      <td>26487682</td>\n",
       "      <td>29196072</td>\n",
       "      <td>32440044</td>\n",
       "      <td>28928366</td>\n",
       "      <td>27168706</td>\n",
       "      <td>29196072</td>\n",
       "      <td>21091111</td>\n",
       "    </tr>\n",
       "  </tbody>\n",
       "</table>\n",
       "<p>16468027 rows × 22 columns</p>\n",
       "</div>"
      ],
      "text/plain": [
       "          timestamp       uid  campaign  conversion  conversion_timestamp  \\\n",
       "0                 0  20073966  22589171           0                    -1   \n",
       "1                 2  24607497    884761           0                    -1   \n",
       "2                 2  28474333  18975823           0                    -1   \n",
       "3                 3   7306395  29427842           1               1449193   \n",
       "4                 3  25357769  13365547           0                    -1   \n",
       "...             ...       ...       ...         ...                   ...   \n",
       "16468022    2671199   5767906   4869923           0                    -1   \n",
       "16468023    2671199   6852682  10002432           0                    -1   \n",
       "16468024    2671199  16638720   7061828           0                    -1   \n",
       "16468025    2671199   3032300   5061834           0                    -1   \n",
       "16468026    2671199  23160808  15398570           0                    -1   \n",
       "\n",
       "          conversion_id  attribution  click  click_pos  click_nb  ...  \\\n",
       "0                    -1            0      0         -1        -1  ...   \n",
       "1                    -1            0      0         -1        -1  ...   \n",
       "2                    -1            0      0         -1        -1  ...   \n",
       "3               3063962            0      1          0         7  ...   \n",
       "4                    -1            0      0         -1        -1  ...   \n",
       "...                 ...          ...    ...        ...       ...  ...   \n",
       "16468022             -1            0      1         -1        -1  ...   \n",
       "16468023             -1            0      0         -1        -1  ...   \n",
       "16468024             -1            0      0         -1        -1  ...   \n",
       "16468025             -1            0      1         -1        -1  ...   \n",
       "16468026             -1            0      0         -1        -1  ...   \n",
       "\n",
       "          time_since_last_click      cat1      cat2      cat3      cat4  \\\n",
       "0                            -1   5824233   9312274   3490278  29196072   \n",
       "1                        423858  30763035   9312274  14584482  29196072   \n",
       "2                          8879    138937   9312274  10769841  29196072   \n",
       "3                            -1  28928366  26597095  12435261  23549932   \n",
       "4                            -1    138937  26597094  31616034  29196072   \n",
       "...                         ...       ...       ...       ...       ...   \n",
       "16468022                 482560  30763035  26597095  13113052  29196072   \n",
       "16468023                 971748  25259032   9312274  10979162  29196072   \n",
       "16468024                 268431  30763035   5824235  29542751  29196072   \n",
       "16468025                     -1   1973606  26597096  28944164  29196072   \n",
       "16468026                 294889  30763035  28928366  26487682  29196072   \n",
       "\n",
       "              cat5      cat6      cat7      cat8      cat9  \n",
       "0         11409686   1973606  25162884  29196072  29196072  \n",
       "1         11409686   1973606  22644417   9312274  21091111  \n",
       "2          5824237    138937   1795451  29196072  15351056  \n",
       "3          5824237   1973606   9180723  29841067  29196072  \n",
       "4         11409684  26597096   4480345  29196072  29196072  \n",
       "...            ...       ...       ...       ...       ...  \n",
       "16468022   5824236  30763035  18391143  29196072   8661623  \n",
       "16468023  32440044  29196072  27259439  29196072   8661620  \n",
       "16468024   5824237  29196072   3696777  29196072  21091111  \n",
       "16468025  26611392   1973606   5642940  14911188  29196072  \n",
       "16468026  32440044  28928366  27168706  29196072  21091111  \n",
       "\n",
       "[16468027 rows x 22 columns]"
      ]
     },
     "execution_count": 5,
     "metadata": {},
     "output_type": "execute_result"
    }
   ],
   "source": [
    "debug_sample = 1.0\n",
    "\n",
    "uid_and_salt = df['uid'].astype(str) + 'hash_salt_for_sampling'\n",
    "hashed_uid_and_salt = pd.util.hash_pandas_object(uid_and_salt, index=False)\n",
    "random_column_based_on_uid = hashed_uid_and_salt / np.iinfo(np.uint64).max\n",
    "debug_df = df[random_column_based_on_uid < debug_sample]\n",
    "debug_df"
   ]
  },
  {
   "cell_type": "markdown",
   "metadata": {
    "id": "VbY_AT8t1DAD"
   },
   "source": [
    "### Clean timelines\n",
    "Split timelines having multiple conversions and remove timelines that have missing clicks"
   ]
  },
  {
   "cell_type": "code",
   "execution_count": 6,
   "metadata": {
    "id": "2JRVAkKQiB5J"
   },
   "outputs": [],
   "source": [
    "def split_timelines(df):\n",
    "  \"\"\"Some timelines have several conversions and conversion times.\n",
    "  For the sake of simplicity, we split the timelines as soon as a conversion occurs.\n",
    "  \"\"\"\n",
    "  conversion_timestamps = df.groupby('uid').agg({'conversion_timestamp': lambda x: sorted(list(set(x)))})\n",
    "  conversion_timestamps.rename(columns={'conversion_timestamp': 'conversion_timestamps'}, inplace=True)\n",
    "\n",
    "  def get_next_conversion_timestamp(data):\n",
    "    next_conversion_index = np.searchsorted(data['conversion_timestamps'], data['timestamp'])\n",
    "    if next_conversion_index == len(data['conversion_timestamps']):\n",
    "      return 'nnc' # no next conversion\n",
    "    else:\n",
    "      return str(data['conversion_timestamps'][next_conversion_index])\n",
    "\n",
    "  df_with_ct = df.merge(conversion_timestamps, on='uid', how='outer', validate=\"many_to_one\")\n",
    "\n",
    "  matched_displays_mask = df_with_ct['conversion_timestamp'] > 0\n",
    "  df_with_ct['next_conversion_timestamp'] = np.where(\n",
    "      matched_displays_mask,\n",
    "      df_with_ct['conversion_timestamp'].astype(str),\n",
    "      df_with_ct.apply(get_next_conversion_timestamp, axis=1)\n",
    "  )\n",
    "  \n",
    "  df_with_ct.rename(columns={'uid': 'uid_no_split'}, inplace=True)\n",
    "  df_with_ct['uid'] = df_with_ct['uid_no_split'].astype(str) + '_' + df_with_ct['next_conversion_timestamp']\n",
    "  \n",
    "  original_column_order = list(df.columns)\n",
    "  return df_with_ct[original_column_order]"
   ]
  },
  {
   "cell_type": "code",
   "execution_count": 7,
   "metadata": {
    "id": "LS9uxSpRiB8Q"
   },
   "outputs": [],
   "source": [
    "debug = True\n",
    "if debug:\n",
    "  test_df = pd.DataFrame([\n",
    "      {'uid': 1, 'timestamp': 1, 'conversion_timestamp': -1},\n",
    "      {'uid': 1, 'timestamp': 2, 'conversion_timestamp': -1},\n",
    "      {'uid': 1, 'timestamp': 3, 'conversion_timestamp': 6},\n",
    "      {'uid': 1, 'timestamp': 4, 'conversion_timestamp': 6},\n",
    "      {'uid': 1, 'timestamp': 7, 'conversion_timestamp': -1},\n",
    "      {'uid': 1, 'timestamp': 8, 'conversion_timestamp': 10},\n",
    "      {'uid': 1, 'timestamp': 9, 'conversion_timestamp': 10},\n",
    "      {'uid': 1, 'timestamp': 11, 'conversion_timestamp': -1},\n",
    "      {'uid': 1, 'timestamp': 12, 'conversion_timestamp': -1},\n",
    "      {'uid': 2, 'timestamp': 1, 'conversion_timestamp': -1},\n",
    "      {'uid': 2, 'timestamp': 2, 'conversion_timestamp': -1},\n",
    "      # Edge case : sometimes (rarely, the conversion is not mapped to the next one)\n",
    "      {'uid': 3, 'timestamp': 1, 'conversion_timestamp': -1},\n",
    "      {'uid': 3, 'timestamp': 2, 'conversion_timestamp': 7},\n",
    "      {'uid': 3, 'timestamp': 3, 'conversion_timestamp': 4},\n",
    "      {'uid': 3, 'timestamp': 5, 'conversion_timestamp': 7},\n",
    "      {'uid': 3, 'timestamp': 6, 'conversion_timestamp': 7},\n",
    "  ])\n",
    "  split_test_df = pd.DataFrame([\n",
    "      {'uid': '1_6', 'timestamp': 1, 'conversion_timestamp': -1},\n",
    "      {'uid': '1_6', 'timestamp': 2, 'conversion_timestamp': -1},\n",
    "      {'uid': '1_6', 'timestamp': 3, 'conversion_timestamp': 6},\n",
    "      {'uid': '1_6', 'timestamp': 4, 'conversion_timestamp': 6},\n",
    "      {'uid': '1_10', 'timestamp': 7, 'conversion_timestamp': -1},\n",
    "      {'uid': '1_10', 'timestamp': 8, 'conversion_timestamp': 10},\n",
    "      {'uid': '1_10', 'timestamp': 9, 'conversion_timestamp': 10},\n",
    "      {'uid': '1_nnc', 'timestamp': 11, 'conversion_timestamp': -1},\n",
    "      {'uid': '1_nnc', 'timestamp': 12, 'conversion_timestamp': -1},\n",
    "      {'uid': '2_nnc', 'timestamp': 1, 'conversion_timestamp': -1},\n",
    "      {'uid': '2_nnc', 'timestamp': 2, 'conversion_timestamp': -1},\n",
    "      # Edge case\n",
    "      {'uid': '3_4', 'timestamp': 1, 'conversion_timestamp': -1},\n",
    "      {'uid': '3_7', 'timestamp': 2, 'conversion_timestamp': 7},\n",
    "      {'uid': '3_4', 'timestamp': 3, 'conversion_timestamp': 4},\n",
    "      {'uid': '3_7', 'timestamp': 5, 'conversion_timestamp': 7},\n",
    "      {'uid': '3_7', 'timestamp': 6, 'conversion_timestamp': 7},\n",
    "  ])\n",
    "  assert split_test_df.equals(split_timelines(test_df))"
   ]
  },
  {
   "cell_type": "code",
   "execution_count": 8,
   "metadata": {
    "id": "tGJTseTcUGjG"
   },
   "outputs": [],
   "source": [
    "def remove_uncomplete_timelines(df):\n",
    "  \"\"\"Since the data set consists of 30 consecutive days, it contains some timelines that\n",
    "  had started before and hence are uncomplete in our training example.\n",
    "  For the sake of simplicity, we remove them.\n",
    "  \"\"\"\n",
    "  # First assert that for all timelines, if a display is associated to a conversion (click_nb > 0)\n",
    "  # then, all click displays share the same click number\n",
    "  click_nb_check_df = df[df['click_nb'] > 0].groupby('uid').agg({'click_nb': lambda x: len(set(x))})\n",
    "  assert np.all(click_nb_check_df['click_nb'] == 1)\n",
    "\n",
    "  click_nb_in_timelines = df.groupby('uid').agg({'click': 'sum'})\n",
    "  click_nb_in_timelines.rename(columns={'click': 'click_nb_in_timeline'}, inplace=True)\n",
    "\n",
    "  df_with_click_nb = df.merge(click_nb_in_timelines, on='uid', how='outer', validate=\"many_to_one\")\n",
    "\n",
    "  # We keep if there is either no click or if all clicks are available\n",
    "  keep_display = (df_with_click_nb['click_nb'] == -1) | (df_with_click_nb['click_nb_in_timeline'] == df_with_click_nb['click_nb'])\n",
    "  filtered_df = df_with_click_nb[keep_display].reset_index()\n",
    "\n",
    "  original_column_order = df.columns\n",
    "  return filtered_df[original_column_order]"
   ]
  },
  {
   "cell_type": "code",
   "execution_count": 9,
   "metadata": {
    "id": "fqimhg6XclDT"
   },
   "outputs": [],
   "source": [
    "debug = True\n",
    "if debug:\n",
    "  # TODO: maybe it makes more sense to remove the whole uncomplete timeline\n",
    "  test_df = pd.DataFrame([\n",
    "      {'uid': 1, 'click': 0, 'click_nb': -1},\n",
    "      {'uid': 1, 'click': 0, 'click_nb': -1},\n",
    "      {'uid': 1, 'click': 0, 'click_nb': -1},\n",
    "      {'uid': 2, 'click': 0, 'click_nb': -1},\n",
    "      {'uid': 2, 'click': 1, 'click_nb': 2},\n",
    "      {'uid': 2, 'click': 1, 'click_nb': 2},\n",
    "      {'uid': 3, 'click': 1, 'click_nb': 3},\n",
    "      {'uid': 3, 'click': 1, 'click_nb': 3},\n",
    "      {'uid': 3, 'click': 0, 'click_nb': -1},\n",
    "  ])\n",
    "  removed_uncomplete_test_df = pd.DataFrame([\n",
    "      {'uid': 1, 'click': 0, 'click_nb': -1},\n",
    "      {'uid': 1, 'click': 0, 'click_nb': -1},\n",
    "      {'uid': 1, 'click': 0, 'click_nb': -1},\n",
    "      {'uid': 2, 'click': 0, 'click_nb': -1},\n",
    "      {'uid': 2, 'click': 1, 'click_nb': 2},\n",
    "      {'uid': 2, 'click': 1, 'click_nb': 2},\n",
    "      {'uid': 3, 'click': 0, 'click_nb': -1},\n",
    "  ])\n",
    "  assert removed_uncomplete_test_df.equals(remove_uncomplete_timelines(test_df))"
   ]
  },
  {
   "cell_type": "code",
   "execution_count": 10,
   "metadata": {
    "id": "jXT0eLBH7Uy9"
   },
   "outputs": [],
   "source": [
    "def get_nb_clicks(df, time_window=60*60*24):\n",
    "    click_timestamps = df[df['click'] == 1].groupby('uid').agg({'timestamp': lambda x: sorted(list(set(x)))})\n",
    "    click_timestamps.rename(columns={'timestamp': 'click_timestamps'}, inplace=True)\n",
    "\n",
    "    def get_nb_clicks(data):\n",
    "        if isinstance(data['click_timestamps'], list) and len(data['click_timestamps']) > 0:\n",
    "            return np.searchsorted(data['click_timestamps'], data['timestamp'])\n",
    "        else:\n",
    "            return 0\n",
    "\n",
    "    df_with_ct = df.merge(click_timestamps, on='uid', how='outer', validate=\"many_to_one\")\n",
    "    df_with_ct['nb_clicks'] = df_with_ct.apply(get_nb_clicks, axis=1)\n",
    "    \n",
    "    original_column_order = list(df.columns) + ['nb_clicks']\n",
    "    return df_with_ct[original_column_order]"
   ]
  },
  {
   "cell_type": "code",
   "execution_count": 11,
   "metadata": {
    "id": "8Sxw88QO7U93"
   },
   "outputs": [],
   "source": [
    "debug = True\n",
    "if debug:\n",
    "    test_df = pd.DataFrame([\n",
    "        {'uid': 1, 'timestamp': 1, 'click': 0},\n",
    "        {'uid': 1, 'timestamp': 2, 'click': 0},\n",
    "        {'uid': 1, 'timestamp': 3, 'click': 1},\n",
    "        {'uid': 1, 'timestamp': 4, 'click': 1},\n",
    "        {'uid': 1, 'timestamp': 7, 'click': 0},\n",
    "        {'uid': 1, 'timestamp': 8, 'click': 1},\n",
    "        {'uid': 1, 'timestamp': 9, 'click': 1},\n",
    "        {'uid': 1, 'timestamp': 11, 'click': 0},\n",
    "        {'uid': 1, 'timestamp': 12, 'click': 0},\n",
    "        {'uid': 2, 'timestamp': 1, 'click': 0},\n",
    "        {'uid': 2, 'timestamp': 2, 'click': 0},\n",
    "    ])\n",
    "    nb_clicks_test_df = pd.DataFrame([\n",
    "        {'uid': 1, 'timestamp': 1, 'click': 0, \"nb_clicks\": 0},\n",
    "        {'uid': 1, 'timestamp': 2, 'click': 0, \"nb_clicks\": 0},\n",
    "        {'uid': 1, 'timestamp': 3, 'click': 1, \"nb_clicks\": 0},\n",
    "        {'uid': 1, 'timestamp': 4, 'click': 1, \"nb_clicks\": 1},\n",
    "        {'uid': 1, 'timestamp': 7, 'click': 0, \"nb_clicks\": 2},\n",
    "        {'uid': 1, 'timestamp': 8, 'click': 1, \"nb_clicks\": 2},\n",
    "        {'uid': 1, 'timestamp': 9, 'click': 1, \"nb_clicks\": 3},\n",
    "        {'uid': 1, 'timestamp': 11, 'click': 0, \"nb_clicks\": 4},\n",
    "        {'uid': 1, 'timestamp': 12, 'click': 0, \"nb_clicks\": 4},\n",
    "        {'uid': 2, 'timestamp': 1, 'click': 0, \"nb_clicks\": 0},\n",
    "        {'uid': 2, 'timestamp': 2, 'click': 0, \"nb_clicks\": 0},\n",
    "    ])\n",
    "\n",
    "    assert nb_clicks_test_df.equals(get_nb_clicks(test_df))"
   ]
  },
  {
   "cell_type": "markdown",
   "metadata": {
    "id": "78bGO4Ax2Wvq"
   },
   "source": [
    "### Enrich dataset"
   ]
  },
  {
   "cell_type": "code",
   "execution_count": 12,
   "metadata": {
    "id": "8zP_keeT6nxX"
   },
   "outputs": [],
   "source": [
    "def preprocess_dataframe(input_df, refresh=False):\n",
    "  df_identifier = '_'.join(map(str, input_df.shape))\n",
    "  cache_directory = 'cache'\n",
    "  cache_path = os.path.join(cache_directory, df_identifier, 'preprocess.pkl')\n",
    "  if os.path.exists(cache_path) and not refresh:\n",
    "    df = pd.read_pickle(cache_path)\n",
    "\n",
    "  else:\n",
    "    df = input_df.copy()\n",
    "    df['uid'] = df['uid'].astype(str) + '_' + df['campaign'].astype(str)\n",
    "\n",
    "    df = split_timelines(df)\n",
    "\n",
    "    df = remove_uncomplete_timelines(df)\n",
    "\n",
    "    df['day'] = np.floor(df['timestamp'] / 86400.).astype(int)\n",
    "\n",
    "    df['time_since_last_click_bucketized'] = np.where(\n",
    "      df['time_since_last_click'] == -1, -1,\n",
    "      np.where(\n",
    "          df['time_since_last_click'] < 20 * 3600,\n",
    "          np.log(1 + df['time_since_last_click'] / 60).astype(int),\n",
    "          7 + (df['time_since_last_click'] / (2 * 24 * 3600)).astype(int)\n",
    "      )\n",
    "    )\n",
    "\n",
    "    df['gap_click_sale'] = -1\n",
    "    df.loc[df['conversion'] == 1, 'gap_click_sale'] = df['conversion_timestamp'] - df['timestamp']\n",
    "\n",
    "    df['last_click'] = df['attribution'] * (df['click_pos'] == df['click_nb'] - 1).astype(int)\n",
    "    \n",
    "    # TODO : this is not really first click, if attribution happens too late...\n",
    "    df['first_click'] = df['attribution'] * (df['click_pos'] == 0).astype(int)\n",
    "    df['uniform'] = df['attribution'] / (df['click_nb']).astype(float)\n",
    "    \n",
    "    total_uid_reward = df.groupby('uid').agg({'last_click': 'sum'})\n",
    "    total_uid_reward.columns = ['total_uid_rewards']\n",
    "    \n",
    "    df = df.merge(total_uid_reward, on='uid', how='outer', validate=\"many_to_one\")\n",
    "    df = get_nb_clicks(df)\n",
    "    \n",
    "    os.makedirs(os.path.dirname(cache_path), exist_ok=True)\n",
    "    df.to_pickle(cache_path)\n",
    "  \n",
    "  # assert there is at most one conversion per timeline\n",
    "  assert set(df['total_uid_rewards'].unique()) == {0, 1}\n",
    "\n",
    "  return df"
   ]
  },
  {
   "cell_type": "code",
   "execution_count": 13,
   "metadata": {
    "colab": {
     "base_uri": "https://localhost:8080/",
     "height": 51
    },
    "id": "M4dSQLac7VEb",
    "outputId": "b71db765-cb0e-493b-cf88-ff8bbbee717a"
   },
   "outputs": [
    {
     "name": "stdout",
     "output_type": "stream",
     "text": [
      "CPU times: user 2.32 s, sys: 2.39 s, total: 4.71 s\n",
      "Wall time: 4.92 s\n"
     ]
    }
   ],
   "source": [
    "%%time\n",
    "\n",
    "enriched_df = preprocess_dataframe(debug_df, refresh=False)"
   ]
  },
  {
   "cell_type": "markdown",
   "metadata": {
    "id": "C-d3_Ujh2rvQ"
   },
   "source": [
    "### Dataset statistics"
   ]
  },
  {
   "cell_type": "code",
   "execution_count": 14,
   "metadata": {
    "colab": {
     "base_uri": "https://localhost:8080/",
     "height": 34
    },
    "id": "3XP3_JpgnV4j",
    "outputId": "0861edf9-1718-459c-fe54-7f269996d9f1"
   },
   "outputs": [
    {
     "name": "stdout",
     "output_type": "stream",
     "text": [
      "The dataset consists in 16256483 timelines of 8015218 users among which 478156 converted\n"
     ]
    }
   ],
   "source": [
    "n_timelines = len(enriched_df)\n",
    "n_users = len(enriched_df['uid'].unique())\n",
    "n_conversions = sum(enriched_df['total_uid_rewards'])\n",
    "print(f'The dataset consists in {n_timelines} timelines of {n_users} users among which {n_conversions} converted')"
   ]
  },
  {
   "cell_type": "code",
   "execution_count": 15,
   "metadata": {
    "colab": {
     "base_uri": "https://localhost:8080/",
     "height": 282
    },
    "id": "BYAOtoCfRSxZ",
    "outputId": "5c8f9338-f96a-4663-f012-38b01afcc32e"
   },
   "outputs": [
    {
     "data": {
      "image/png": "[encoded data removed]",
      "text/plain": [
       "<Figure size 432x288 with 1 Axes>"
      ]
     },
     "metadata": {},
     "output_type": "display_data"
    }
   ],
   "source": [
    "enriched_df.day.hist(bins=len(enriched_df.day.unique()))\n",
    "plt.ylabel('Number of display per day')\n",
    "plt.xlabel('Day')\n",
    "None"
   ]
  },
  {
   "cell_type": "code",
   "execution_count": 16,
   "metadata": {
    "colab": {
     "base_uri": "https://localhost:8080/",
     "height": 299
    },
    "id": "xUIPhSd7Criw",
    "outputId": "b1d38dfb-834f-4d85-f024-9ddf5065fcad"
   },
   "outputs": [
    {
     "data": {
      "image/png": "[encoded data removed]",
      "text/plain": [
       "<Figure size 1296x288 with 2 Axes>"
      ]
     },
     "metadata": {},
     "output_type": "display_data"
    }
   ],
   "source": [
    "groupped_by_user = enriched_df.groupby('uid').agg({'click': ['count', 'sum'], 'attribution': ['sum']})\n",
    "converted_users = groupped_by_user[groupped_by_user['attribution']['sum'] > 0]\n",
    "\n",
    "fig, axes = plt.subplots(1, 2, figsize=(18, 4), sharex=True, sharey=True)\n",
    "max_clicks = 10\n",
    "groupped_by_user['click']['sum'][groupped_by_user['click']['sum'] < max_clicks].hist(density=True, bins=max_clicks, ax=axes[0])\n",
    "axes[0].set_title('Number of clicks made by all users')\n",
    "axes[0].set_xlabel('Number of clicks')\n",
    "axes[0].set_ylabel('Proportion of users')\n",
    "\n",
    "converted_users['click']['sum'][converted_users['click']['sum'] < max_clicks].hist(density=True, bins=max_clicks, ax=axes[1])\n",
    "axes[1].set_title('Number of clicks made by converted users')\n",
    "axes[1].set_xlabel('Number of clicks')\n",
    "axes[1].yaxis.set_tick_params(reset=True)\n",
    "axes[1].set_ylabel('Proportion of users')\n",
    "None"
   ]
  },
  {
   "cell_type": "markdown",
   "metadata": {
    "id": "CRitWZWN5LlX"
   },
   "source": [
    "### Featuring"
   ]
  },
  {
   "cell_type": "code",
   "execution_count": 17,
   "metadata": {
    "id": "Srbvnd3D5m1B"
   },
   "outputs": [],
   "source": [
    "def split_train_test_mask(df, ratio):\n",
    "  \"\"\"We split the dataset into train and test parts by uid\n",
    "  (learn on a part of the population and test on the other part)\n",
    "  \"\"\"\n",
    "  uid_and_salt = df['uid'].astype(str) + 'hash_salt_for_train_test_split'\n",
    "  hashed_uid_and_salt = pd.util.hash_pandas_object(uid_and_salt, index=False)\n",
    "  random_column_based_on_uid = hashed_uid_and_salt / np.iinfo(np.uint64).max\n",
    "  return random_column_based_on_uid < ratio"
   ]
  },
  {
   "cell_type": "code",
   "execution_count": 18,
   "metadata": {
    "id": "OQa6DDBFKni1"
   },
   "outputs": [],
   "source": [
    "FEATURES = ['campaign', 'cat1', 'cat2', 'cat3', 'cat4', 'cat5', 'cat6', 'cat7', 'cat8', 'cat9', 'time_since_last_click_bucketized', 'nb_clicks']\n",
    "CACHE_DIRECTORY = 'cache'\n",
    "LABELS_FILE = 'labels.npy'\n",
    "FEATURES_FILE = 'features.npz'\n",
    "\n",
    "def features_to_list_of_strings(row):\n",
    "  return [f'{feature}_{row[feature]}' for feature in row.index]\n",
    "\n",
    "def get_labels_and_features(df, label_column, hash_space=2**13, refresh=False):\n",
    "  df_identifier = '_'.join(map(str, enriched_df.shape))\n",
    "  label_features_identifier = f'{label_column}_{\"_\".join(FEATURES)}'\n",
    "  cache_path = os.path.join(CACHE_DIRECTORY, df_identifier, label_features_identifier, str(hash_space))\n",
    "  label_cache_path = os.path.join(cache_path, LABELS_FILE)\n",
    "  features_cache_path = os.path.join(cache_path, FEATURES_FILE)\n",
    "  \n",
    "  if not refresh and os.path.exists(label_cache_path) and os.path.exists(features_cache_path):\n",
    "    labels = np.load(label_cache_path)\n",
    "    features = scipy.sparse.load_npz(features_cache_path)\n",
    "\n",
    "  else:\n",
    "    labels = df[label_column].astype(float).values\n",
    "    raw_features = df[FEATURES]\n",
    "\n",
    "    features_as_list_of_strings = raw_features.apply(features_to_list_of_strings, axis=1)\n",
    "    hasher = FeatureHasher(n_features=hash_space, input_type='string', alternate_sign=False)\n",
    "    features = hasher.fit_transform(features_as_list_of_strings)\n",
    "    os.makedirs(cache_path, exist_ok=True)\n",
    "    np.save(label_cache_path, labels)\n",
    "    scipy.sparse.save_npz(features_cache_path, features)\n",
    "\n",
    "  return labels, features"
   ]
  },
  {
   "cell_type": "code",
   "execution_count": 19,
   "metadata": {
    "id": "3yafDgGU551X"
   },
   "outputs": [],
   "source": [
    "hash_space = 2**13\n",
    "\n",
    "labels, features = get_labels_and_features(\n",
    "    enriched_df, 'last_click', hash_space=hash_space, refresh=False)\n",
    "is_training = split_train_test_mask(enriched_df, 0.8)\n",
    "train_labels, train_features = labels[is_training], features[is_training]"
   ]
  },
  {
   "cell_type": "markdown",
   "metadata": {
    "id": "u8tSQEzch9-p"
   },
   "source": [
    "## MTC Likelihood"
   ]
  },
  {
   "cell_type": "markdown",
   "metadata": {
    "id": "9D3Bq6p7h_kl"
   },
   "source": [
    "We call MTC empirical likelihood \n",
    "\n",
    "$$\n",
    "f(\\nu) = \\sum_{n = 1}^N \\Bigg\\{ V(s_n) \\cdot \\log \\bigg( \\sum_{i = 1}^{\\ell(s)} \\nu({s_n}^i) \\bigg) - \\sum_{i = 1}^{\\ell(s)} \\nu({s_n}^i) \\Bigg\\}\n",
    "$$"
   ]
  },
  {
   "cell_type": "code",
   "execution_count": 20,
   "metadata": {
    "id": "wZF5_x4wh87_"
   },
   "outputs": [],
   "source": [
    "def mtc_likelihood(model_or_predictions, features, timeline_ids, uid_rewards):\n",
    "  # Get model predictions for all displays\n",
    "  if hasattr(model_or_predictions, 'predict_proba'):\n",
    "    model_predictions = model_or_predictions.predict_proba(features)[:, 1]\n",
    "  else:\n",
    "    model_predictions = model_or_predictions\n",
    "\n",
    "  # Gather the attributions per timeline and obtain the sum of the predictions per timeline\n",
    "  predictions_per_display = pd.DataFrame({\n",
    "      'timeline_id': timeline_ids,\n",
    "      'prediction': model_predictions,\n",
    "      'uid_reward': uid_rewards,\n",
    "  })\n",
    "\n",
    "  sum_predictions_by_timeline = (\n",
    "    predictions_per_display\n",
    "    .groupby('timeline_id')\n",
    "    .agg({'prediction': 'sum', 'uid_reward': 'first'})\n",
    "    .reset_index()\n",
    "  )\n",
    "  sum_predictions_by_timeline.columns = ['timeline_id', 'sum_predictions', 'uid_reward']\n",
    "    \n",
    "  mtc_llh = (\n",
    "    sum_predictions_by_timeline['uid_reward'] \n",
    "    * np.log(sum_predictions_by_timeline['sum_predictions'])\n",
    "    - sum_predictions_by_timeline['sum_predictions']\n",
    "  )\n",
    "  \n",
    "  return mtc_llh.mean()"
   ]
  },
  {
   "cell_type": "markdown",
   "metadata": {
    "id": "7dZmKPdS7tQw"
   },
   "source": [
    "## Learning"
   ]
  },
  {
   "cell_type": "code",
   "execution_count": 21,
   "metadata": {
    "id": "p79pZ2og6G9J"
   },
   "outputs": [],
   "source": [
    "C_REGULARIZATION = 1"
   ]
  },
  {
   "cell_type": "markdown",
   "metadata": {
    "id": "zNKnb_HBi-Kd"
   },
   "source": [
    "### One pass / classical learning"
   ]
  },
  {
   "cell_type": "code",
   "execution_count": 22,
   "metadata": {
    "colab": {
     "base_uri": "https://localhost:8080/",
     "height": 68
    },
    "id": "wjf3b0Hg-K38",
    "outputId": "cc2449fd-212c-46fc-837f-10aefc15847e"
   },
   "outputs": [
    {
     "name": "stdout",
     "output_type": "stream",
     "text": [
      "CPU times: user 16min 56s, sys: 1min 53s, total: 18min 50s\n",
      "Wall time: 18min 49s\n"
     ]
    },
    {
     "data": {
      "text/plain": [
       "LogisticRegression(C=1, max_iter=1000)"
      ]
     },
     "execution_count": 22,
     "metadata": {},
     "output_type": "execute_result"
    }
   ],
   "source": [
    "%%time\n",
    "last_touch_model = LogisticRegression(max_iter=1000, C=C_REGULARIZATION)\n",
    "last_touch_model.fit(train_features, train_labels)"
   ]
  },
  {
   "cell_type": "markdown",
   "metadata": {
    "id": "ObQ5LsUfGAHS"
   },
   "source": [
    "### Core Attribution"
   ]
  },
  {
   "cell_type": "markdown",
   "metadata": {
    "id": "HHqEChYp9n-p"
   },
   "source": [
    "#### Logistic regression with continuous labels"
   ]
  },
  {
   "cell_type": "markdown",
   "metadata": {
    "id": "ed6qiPx3RzsV"
   },
   "source": [
    "We choose Logistic regression from scikit-learn as our ML algorithm. The logistic regression loss that we minimize is\n",
    "\n",
    "$$\n",
    "l(y, p) = \\mathbb{1}_{y = 1} \\log(p) + \\mathbb{1}_{y = 0} \\log(1 - p)\n",
    "$$\n",
    "\n",
    "However, our fixed-point algorithm will make appear continuous labels ($y$ is the result of the internal attribution $\\mu$) that cannot be fit with scikit-learn's logistic regression. Indeed, this logisitic regression can only take 0-1 labels as input.\n",
    "\n",
    "A basic extension of logistic regression to learn with a continuous label $y \\in [0, 1]$, consisits in minimizing the binomial loss that writes:\n",
    "\n",
    "$$\n",
    "l(y, p) = y \\log(p) + (1 - y) \\log(1 - p)\n",
    "$$\n",
    "\n",
    "In order to minimize this loss with a logistic regression optimizer, we generate a new dataset in which we duplicate the rows and assign them a weight : a \"positive\" row a label 1 and a weight $y$ and a \"negative\" row with a label 0 and a weight $1 - y$."
   ]
  },
  {
   "cell_type": "code",
   "execution_count": 23,
   "metadata": {
    "id": "4Vzb2wSNRpe-"
   },
   "outputs": [],
   "source": [
    "class CountinuousLogisticRegression(LogisticRegression):\n",
    "  \n",
    "  @staticmethod\n",
    "  def from_countinuous_to_weighted_binary_labels(labels, features):\n",
    "    \"\"\"Transforms a dataset with continuous labels into a bigger dataset with weighted \n",
    "    binary labels. See explanation above.\n",
    "    \"\"\"\n",
    "    weigths_positive = labels\n",
    "    weigths_negative = 1 - labels\n",
    "    label_positive = np.ones_like(labels)\n",
    "    label_negative = np.zeros_like(labels)\n",
    "\n",
    "    weights = np.hstack((weigths_positive, weigths_negative))\n",
    "    weighted_labels = np.hstack((label_positive, label_negative))\n",
    "    weighted_features = scipy.sparse.vstack((features, features))\n",
    "\n",
    "    mask = (weights > 0)\n",
    "    return weighted_labels[mask], weighted_features[mask], weights[mask]\n",
    "  \n",
    "  def fit(self, X, y):\n",
    "    # 1. Generate dataset, use continuous labels to weighted dataset trick\n",
    "    weighted_labels, weighted_features, weights = self.from_countinuous_to_weighted_binary_labels(y, X)\n",
    "\n",
    "    # 2. Train model\n",
    "    return LogisticRegression.fit(self, weighted_features, weighted_labels, sample_weight=weights)"
   ]
  },
  {
   "cell_type": "markdown",
   "metadata": {
    "id": "A8J3QLp2jB5i"
   },
   "source": [
    "#### Fixed point iterations"
   ]
  },
  {
   "cell_type": "markdown",
   "metadata": {
    "id": "Jzpt2NhmSbpN"
   },
   "source": [
    "We are implementing the following fixed-point algorithm\n",
    "\n",
    "1. Generate dataset\n",
    "   $$ \\mathcal{D}^{(k + 1)} \\;\\; = \\;\\; \\big\\{\n",
    "   (x, y) = \\big((s_n)^j, \\mu^{(k)}(j, s_n) \\big) \\text{ for } n \\in [N] \\text{ and } j \\in [\\ell(s_n)] \n",
    "   \\big\\}$$\n",
    "  \n",
    "2. With a ML algorithm, train $\\nu^{(k + 1)}$ on $\\mathcal{D}^{(k + 1)}$ \\\\\n",
    "   $$ \\nu^{(k + 1)} \\;\\; = \\;\\; (s) \\mapsto \\mathbb{E}_{(x, y) \\in \\mathcal{D}^{(k + 1)}} \\big[ y\\; | \\; x=s \\big] $$\n",
    "\n",
    "3. Set $\\mu$ with fixed-point characterization \n",
    "   $$\\mu^{(k + 1)} \\;\\; = \\;\\; (i, s) \\mapsto \\frac{\\nu^{(k + 1)}(s^i)}{\\sum_{j = 1}^{\\ell(s)} \\nu^{(k + 1)}(s^j)} V(s)$$"
   ]
  },
  {
   "cell_type": "code",
   "execution_count": 24,
   "metadata": {
    "id": "ziuzG6IO-FSH"
   },
   "outputs": [],
   "source": [
    "def split_dataset_into_static_and_to_update_parts(df):\n",
    "  \"\"\"In our dataset, we know in advance that many displays will not get any \n",
    "  credit from the internal attribution. Either:\n",
    "    1. because they have not been clicked or have been clicked only once\n",
    "    2. because no attributed sales were corresponding to this uid.\n",
    "  These displays remain attached with a zero label while the remaining ones\n",
    "  will have a variable label computed with the fixed point iterations.\n",
    "  \"\"\"\n",
    "  to_update_mask = ((df['total_uid_rewards'] > 0) & (df['click'] >= 1)).values\n",
    "\n",
    "  static_mask = ~to_update_mask\n",
    "  return to_update_mask, static_mask\n",
    "\n",
    "\n",
    "def run_one_iteration(model, labels, features, is_clicked, uids, total_uid_reward, kernel_values=None):\n",
    "  \"\"\"In our dataset, we know in advance that many displays will not get any \n",
    "  credit from the internal attribution. Either:\n",
    "    1. because they have not been clicked or have been clicked only once\n",
    "    2. because no attributed sales were corresponding to this uid.\n",
    "  These displays remain attached with a zero label while the remaining ones\n",
    "  will have a variable label computed with the fixed point iterations.\n",
    "  \"\"\"\n",
    "  to_update_mask = (total_uid_reward > 0) & is_clicked\n",
    "  static_mask = ~to_update_mask\n",
    "\n",
    "  labels_to_update, features_to_update = labels[to_update_mask], features[to_update_mask]\n",
    "  \n",
    "  # Step 2, compute valuations\n",
    "  if model is None:\n",
    "    model = CountinuousLogisticRegression(max_iter=1000, C=C_REGULARIZATION)\n",
    "  model.fit(features, labels)\n",
    "  model_predictions = model.predict_proba(features_to_update)[:, 1]\n",
    "\n",
    "  if kernel_values is None:\n",
    "    scenario_valuation = model_predictions\n",
    "  else:\n",
    "    scenario_valuation = model_predictions * kernel_values[to_update_mask]\n",
    "\n",
    "  predictions_per_display_to_update = pd.DataFrame({\n",
    "      'feature_index': np.arange(scenario_valuation.shape[0]), \n",
    "      'uid': uids[to_update_mask],\n",
    "      'scenario_valuation': scenario_valuation,\n",
    "      'total_uid_rewards': total_uid_reward[to_update_mask],\n",
    "  })\n",
    "  \n",
    "  # Step 3, compute new labels proportionnaly to the display valuations\n",
    "  total_uid_valuation = (\n",
    "      predictions_per_display_to_update\n",
    "      .groupby('uid')\n",
    "      .agg(total_uid_valuation=('scenario_valuation', 'sum'))\n",
    "      .reset_index()\n",
    "  )\n",
    "  \n",
    "  predictions_per_display_to_update = predictions_per_display_to_update.merge(\n",
    "      total_uid_valuation, on='uid', how='left')\n",
    "  \n",
    "  # merge shuffles the lines, we must reorder them by feature index\n",
    "  predictions_per_display_to_update.sort_values('feature_index', inplace=True)\n",
    "\n",
    "  # Use fixed point characterization to update the labels\n",
    "  updated_labels = (\n",
    "    predictions_per_display_to_update['scenario_valuation'] \n",
    "    / predictions_per_display_to_update['total_uid_valuation'] \n",
    "    * predictions_per_display_to_update['total_uid_rewards']\n",
    "  ).values\n",
    "\n",
    "  next_labels = labels\n",
    "  next_labels[to_update_mask] = updated_labels\n",
    "\n",
    "  # Ensure we have just spread the labels\n",
    "  np.testing.assert_almost_equal(sum(updated_labels), sum(labels))\n",
    "  np.testing.assert_almost_equal(sum(next_labels), sum(labels))\n",
    "  \n",
    "  return model, next_labels"
   ]
  },
  {
   "cell_type": "code",
   "execution_count": 25,
   "metadata": {
    "id": "PO1vU0ajyyOd"
   },
   "outputs": [],
   "source": [
    "scenario_valuations_path = os.path.join(cache_mtc_results_dir, f'sample_{debug_sample}', f'senario_valuations_C={C_REGULARIZATION}.csv')\n",
    "mtc_likelihoods_path = os.path.join(cache_mtc_results_dir, f'sample_{debug_sample}', f'mtc_likelihoods_C={C_REGULARIZATION}.csv')\n",
    "mtc_likelihoods_with_hashspace_path = os.path.join(cache_mtc_results_dir, f'sample_{debug_sample}', f'mtc_likelihoods_with_hashspace_C={C_REGULARIZATION}.csv')\n",
    "metrics_with_hashspace_path = os.path.join(cache_mtc_results_dir, f'sample_{debug_sample}', f'metrics_with_hashspace_C={C_REGULARIZATION}.csv')"
   ]
  },
  {
   "cell_type": "code",
   "execution_count": null,
   "metadata": {
    "id": "wdIQrI5BF0HC"
   },
   "outputs": [
    {
     "name": "stdout",
     "output_type": "stream",
     "text": [
      "0\n",
      "1\n",
      "2\n",
      "3\n"
     ]
    }
   ],
   "source": [
    "%%time\n",
    "scenario_valuations = []\n",
    "mtc_likelihoods = []\n",
    "penalized_mtc_likelihoods = []\n",
    "test_mtc_likelihoods = []\n",
    "test_penalized_mtc_likelihoods = []\n",
    "current_model, current_labels = None, labels[is_training].astype(float).copy()\n",
    "\n",
    "n_selected_displays = 10\n",
    "selected_displays = (current_labels > 0) & (np.cumsum(current_labels) < n_selected_displays)\n",
    "is_clicked, uids, total_uid_rewards = enriched_df['click'] > 0, enriched_df['uid'], enriched_df['total_uid_rewards']\n",
    "for _ in range(10):\n",
    "  print(_)\n",
    "  current_model, current_labels = run_one_iteration(\n",
    "      current_model, current_labels, train_features, is_clicked[is_training], uids[is_training], total_uid_rewards[is_training])\n",
    "  \n",
    "  mtc_likelihoods += [mtc_likelihood(current_model, train_features, uids[is_training], total_uid_rewards[is_training])]\n",
    "  test_mtc_likelihoods += [mtc_likelihood(current_model, features[~is_training], uids[~is_training], total_uid_rewards[~is_training])]\n",
    "\n",
    "  solver_coeffs = current_model.coef_.ravel()\n",
    "  penalization = 0.5 / current_model.C * np.dot(solver_coeffs, solver_coeffs)\n",
    "  penalized_mtc_likelihoods += [mtc_likelihoods[-1] - penalization / train_features.shape[0]]\n",
    "  test_penalized_mtc_likelihoods += [test_mtc_likelihoods[-1] - penalization / features[~is_training].shape[0]]\n",
    "  scenario_valuations += [{\n",
    "    f'Display {i}': current_model.predict_proba(feature)[0, 1]\n",
    "    for i, feature in enumerate(train_features[selected_displays])\n",
    "  }]\n",
    "\n",
    "mtc_model = current_model\n",
    "\n",
    "os.makedirs(os.path.dirname(scenario_valuations_path), exist_ok=True)\n",
    "pd.DataFrame(scenario_valuations).to_csv(scenario_valuations_path, index=False)\n",
    "pd.DataFrame({\n",
    "    'mtc_likelihoods': mtc_likelihoods, 'test_mtc_likelihoods': test_mtc_likelihoods,\n",
    "    'penalized_mtc_likelihoods': penalized_mtc_likelihoods, 'test_penalized_mtc_likelihoods': test_penalized_mtc_likelihoods,\n",
    "}).to_csv(mtc_likelihoods_path, index=False)"
   ]
  },
  {
   "cell_type": "code",
   "execution_count": null,
   "metadata": {
    "id": "pz3oQ8A0VAN1"
   },
   "outputs": [],
   "source": [
    "def plot_scenario_valuation(scenario_valuations_df, ax):\n",
    "  display_types = sorted(list(scenario_valuations_df.columns))\n",
    "  for display_type in display_types:\n",
    "    ax.plot(scenario_valuations_df[display_type], label=display_type)\n",
    "\n",
    "  ax.set_title('Convergence of display valuations')\n",
    "  ax.set_ylabel('display valuation')\n",
    "  ax.set_xlabel('iteration number')\n",
    "  ax.set_xlim((ax.get_xlim()[0], ax.get_xlim()[1] * 1.2))  # Add some space on the right\n",
    "  ax.set_ylim([0., ax.get_ylim()[1] + 0.3 * (ax.get_ylim()[1] - ax.get_ylim()[0])])\n",
    "  ax.legend(loc='upper right', ncol=3)\n",
    "\n",
    "fig, ax = plt.subplots(1, 1)\n",
    "scenario_valuations_df = pd.read_csv(scenario_valuations_path)\n",
    "plot_scenario_valuation(scenario_valuations_df, ax)"
   ]
  },
  {
   "cell_type": "code",
   "execution_count": null,
   "metadata": {
    "id": "KeL5ZrJmQzaw"
   },
   "outputs": [],
   "source": [
    "def plot_mtc_likelihood(mtc_likelihoods, ax):\n",
    "  ax.plot(range(1, len(mtc_likelihoods) + 1), mtc_likelihoods)\n",
    "  ax.set_ylabel('Additivity likelihood', fontsize=14)\n",
    "  ax.set_xlabel('Iteration number', fontsize=14)\n",
    "\n",
    "  llh_init = mtc_likelihoods[0]\n",
    "  llh_conv = mtc_likelihoods[-1]\n",
    "  ax.scatter(len(mtc_likelihoods), llh_conv, s=60, label=f'core attribution', c='C0')\n",
    "  ax.scatter(1, llh_init, s=60, label=f'last touch attribution', c='C1')\n",
    "  ax.legend()\n",
    "\n",
    "fig, axes = plt.subplots(1, 2, figsize=(10, 4))\n",
    "mtc_likelihoods_df = pd.read_csv(mtc_likelihoods_path)\n",
    "plot_mtc_likelihood(mtc_likelihoods_df[\"mtc_likelihoods\"].values, axes[0])\n",
    "axes[0].set_title('Convergence on train set')\n",
    "plot_mtc_likelihood(mtc_likelihoods_df[\"test_mtc_likelihoods\"].values, axes[1])\n",
    "axes[1].set_title('Convergence on test set')\n",
    "fig.tight_layout()"
   ]
  },
  {
   "cell_type": "code",
   "execution_count": null,
   "metadata": {},
   "outputs": [],
   "source": [
    "# Saving figures for paper\n",
    "mtc_likelihoods_df = pd.read_csv(mtc_likelihoods_path)\n",
    "\n",
    "fig, ax = plt.subplots(1, 1, figsize=(5, 3))\n",
    "plot_mtc_likelihood(mtc_likelihoods_df[\"mtc_likelihoods\"].values, ax)\n",
    "fig.subplots_adjust(bottom=0.15, left=0.2, top=0.95, right=0.95)\n",
    "plt.savefig('additive_likelihood_on_train_set.pdf')\n",
    "plt.close(fig)\n",
    "\n",
    "fig, ax = plt.subplots(1, 1, figsize=(5, 3))\n",
    "plot_mtc_likelihood(mtc_likelihoods_df[\"test_mtc_likelihoods\"].values, ax)\n",
    "fig.subplots_adjust(bottom=0.15, left=0.2, top=0.95, right=0.95)\n",
    "plt.savefig('additive_likelihood_on_test_set.pdf')\n",
    "plt.close(fig)"
   ]
  },
  {
   "cell_type": "markdown",
   "metadata": {
    "id": "vAVGfeSLelml"
   },
   "source": [
    "### MTC likelihood improvement with features space"
   ]
  },
  {
   "cell_type": "code",
   "execution_count": null,
   "metadata": {
    "id": "XrOJW-kTRjbS"
   },
   "outputs": [],
   "source": [
    "def get_last_touch_model(train_labels, train_features):\n",
    "  last_touch_model = LogisticRegression(max_iter=1000, C=C_REGULARIZATION)\n",
    "  last_touch_model.fit(train_features, train_labels)\n",
    "  return last_touch_model\n",
    "\n",
    "def get_mtc_model(enriched_df, is_training, train_labels, train_features, n_iter=10):\n",
    "  current_model, current_labels = None, train_labels.astype(float).copy()\n",
    "\n",
    "  for _ in range(n_iter):\n",
    "    is_clicked, uids, total_uid_rewards = enriched_df['click'] > 0, enriched_df['uid'], enriched_df['total_uid_rewards']\n",
    "    current_model, current_labels = run_one_iteration(\n",
    "        current_model, current_labels, train_features, is_clicked[is_training], uids[is_training], total_uid_rewards[is_training])\n",
    "    \n",
    "  return current_model"
   ]
  },
  {
   "cell_type": "code",
   "execution_count": null,
   "metadata": {
    "id": "a5rciQOpgZ9R"
   },
   "outputs": [],
   "source": [
    "def conversion_loss(suffix, model, features, timeline_ids, uid_rewards, delta=0.95, tops=[1000, 2000]):\n",
    "  # Get model predictions for all displays\n",
    "  model_predictions = model.predict_proba(features)[:, 1]\n",
    "\n",
    "  # Gather the attributions per timeline and obtain the sum of the predictions per timeline\n",
    "  predictions_per_display = pd.DataFrame({\n",
    "      'timeline_id': timeline_ids,\n",
    "      'prediction': model_predictions,\n",
    "      'uid_reward': uid_rewards,\n",
    "  })\n",
    "\n",
    "  # the following is equivalent to apply compute_conversion_proba function (but much faster)\n",
    "  # def compute_conversion_proba(predictions):\n",
    "  #   conversion_proba_with_no_interaction = 1 - np.prod([\n",
    "  #     (1 - prediction) for prediction in predictions\n",
    "  #   ])\n",
    "  #   decay_factor = delta ** len(predictions)\n",
    "  #   return conversion_proba_with_no_interaction * decay_factor\n",
    "\n",
    "  predictions_per_display['no_conversion'] = 1 - predictions_per_display['prediction']\n",
    "\n",
    "  conversion_proba_by_timeline = (\n",
    "    predictions_per_display\n",
    "    .groupby('timeline_id')\n",
    "    .agg({'no_conversion': ['prod', 'count'], 'uid_reward': 'first'})\n",
    "    .reset_index()\n",
    "  )\n",
    "\n",
    "  conversion_proba_by_timeline['conversion_proba'] = (\n",
    "      (1 - conversion_proba_by_timeline[('no_conversion', 'prod')])\n",
    "      * (delta ** conversion_proba_by_timeline[('no_conversion', 'count')])\n",
    "  )\n",
    "\n",
    "  conversion_proba_by_timeline.sort_values('conversion_proba', ascending=False, inplace=True)\n",
    "  \n",
    "  total_positives = conversion_proba_by_timeline['uid_reward'].sum().values[0]\n",
    "  \n",
    "  precisions = []\n",
    "  recalls = []\n",
    "  conversion_proba_by_timeline['n_positive_in_top'] = conversion_proba_by_timeline['uid_reward'].cumsum()\n",
    "  \n",
    "  conversion_proba_by_timeline.to_csv(metrics_with_hashspace_path.replace('metrics_with_hashspace', f'conversion_proba_{suffix}'), index=False)\n",
    "\n",
    "  precisions = conversion_proba_by_timeline['n_positive_in_top'] / (1 + np.arange(len(conversion_proba_by_timeline)))\n",
    "  recalls = conversion_proba_by_timeline['n_positive_in_top'] / total_positives\n",
    "  return precisions.iloc[tops].values, recalls.iloc[tops].values"
   ]
  },
  {
   "cell_type": "code",
   "execution_count": null,
   "metadata": {
    "id": "Fvn30Gq6qZ5D"
   },
   "outputs": [],
   "source": [
    "%%time\n",
    "\n",
    "def compute_likelihoods_and_conversion_losses(hash_space, uids, total_uid_rewards, is_training, tops=[1000]):\n",
    "  labels, features = get_labels_and_features(enriched_df, 'last_click', hash_space=hash_space, refresh=False)\n",
    "  train_labels, train_features, train_timeline_ids, train_uid_rewards = (\n",
    "      labels[is_training], features[is_training], timeline_ids[is_training], uid_rewards[is_training]\n",
    "  )\n",
    "  train_enriched_df = enriched_df[is_training]\n",
    "  test_labels, test_features, test_timeline_ids, test_uid_rewards = (\n",
    "      labels[~is_training], features[~is_training], timeline_ids[~is_training], uid_rewards[~is_training]\n",
    "  )\n",
    "\n",
    "  last_touch_model = get_last_touch_model(train_labels, train_features)  \n",
    "  mtc_model = get_mtc_model(enriched_df, is_training, train_labels, train_features, n_iter=10)\n",
    "\n",
    "  return (\n",
    "      mtc_likelihood(last_touch_model, train_features, train_timeline_ids, train_uid_rewards), \n",
    "      mtc_likelihood(mtc_model, train_features, train_timeline_ids, train_uid_rewards),\n",
    "      mtc_likelihood(last_touch_model, test_features, test_timeline_ids, test_uid_rewards), \n",
    "      mtc_likelihood(mtc_model, test_features, test_timeline_ids, test_uid_rewards),\n",
    "\n",
    "      conversion_loss(f'h={hash_space}_lasttouch_train', last_touch_model, train_features, train_timeline_ids, train_uid_rewards, tops=tops),\n",
    "      conversion_loss(f'h={hash_space}_mtc_train', mtc_model, train_features, train_timeline_ids, train_uid_rewards, tops=tops),\n",
    "      conversion_loss(f'h={hash_space}_lasttouch_test', last_touch_model, test_features, test_timeline_ids, test_uid_rewards, tops=tops),\n",
    "      conversion_loss(f'h={hash_space}_mtc_test', mtc_model, test_features, test_timeline_ids, test_uid_rewards, tops=tops),\n",
    "  )\n",
    "\n",
    "dalessandro = True\n",
    "\n",
    "if dalessandro:\n",
    "  hash_spaces = [2**space for space in range(10, 17)]\n",
    "  n_jobs = len(hash_spaces)\n",
    "  timeline_ids = enriched_df['uid']\n",
    "  uid_rewards = enriched_df['total_uid_rewards']\n",
    "  tops = list(range(100, 1100, 100))\n",
    "\n",
    "  parallel_result = Parallel(n_jobs=n_jobs)(\n",
    "      delayed(compute_likelihoods_and_conversion_losses)(hash_space, timeline_ids, uid_rewards, is_training, tops=tops) for hash_space in hash_spaces)\n",
    "\n",
    "  (\n",
    "    last_touch_likelihoods, mtc_likelihoods, test_last_touch_likelihoods, test_mtc_likelihoods,\n",
    "    last_touch_precision_recall, mtc_precision_recall,\n",
    "    test_last_touch_precision_recall, test_mtc_precision_recall,\n",
    "  ) = zip(*parallel_result)\n",
    "\n",
    "\n",
    "  last_touch_precision, last_touch_recall = list(zip(*last_touch_precision_recall))\n",
    "  mtc_precision, mtc_recall = list(zip(*mtc_precision_recall))\n",
    "  test_last_touch_precision, test_last_touch_recall = list(zip(*test_last_touch_precision_recall))\n",
    "  test_mtc_precision, test_mtc_recall = list(zip(*test_mtc_precision_recall))\n",
    "\n",
    "    \n",
    "  pd.DataFrame({\n",
    "      'hash_spaces': hash_spaces,\n",
    "      'last_touch_likelihoods': last_touch_likelihoods, \n",
    "      'mtc_likelihoods': mtc_likelihoods,\n",
    "      'test_last_touch_likelihoods': test_last_touch_likelihoods, \n",
    "      'test_mtc_likelihoods': test_mtc_likelihoods,\n",
    "      'tops': [tops for _ in range(len(hash_spaces))],\n",
    "      'last_touch_precision': last_touch_precision, \n",
    "      'last_touch_recall': last_touch_recall, \n",
    "      'mtc_precision': mtc_precision,\n",
    "      'mtc_recall': mtc_recall,\n",
    "      'test_last_touch_precision': test_last_touch_precision, \n",
    "      'test_last_touch_recall': test_last_touch_recall, \n",
    "      'test_mtc_precision': test_mtc_precision,\n",
    "      'test_mtc_recall': test_mtc_recall,\n",
    "  }).to_csv(metrics_with_hashspace_path, index=False)"
   ]
  },
  {
   "cell_type": "code",
   "execution_count": null,
   "metadata": {},
   "outputs": [],
   "source": [
    "metrics_with_hashspace_path"
   ]
  },
  {
   "cell_type": "code",
   "execution_count": null,
   "metadata": {},
   "outputs": [],
   "source": [
    "def load_csv_array(array):\n",
    "  if ',' in array:\n",
    "    return np.array([float(n) for n in eval(array)])\n",
    "  else:\n",
    "    return np.fromstring(array.replace('\\n', '').replace('  ', ' ')[1:-1], sep=' ')\n",
    "\n",
    "metrics_df = pd.read_csv(metrics_with_hashspace_path)\n",
    "for col in ['tops', 'last_touch_precision', 'last_touch_recall', 'mtc_precision', 'mtc_recall', 'test_last_touch_precision', 'test_last_touch_recall', 'test_mtc_precision', 'test_mtc_recall']:\n",
    "    metrics_df[col] = metrics_df[col].apply(load_csv_array)"
   ]
  },
  {
   "cell_type": "code",
   "execution_count": null,
   "metadata": {},
   "outputs": [],
   "source": [
    "def plot_likelihood_given_hashspace(hash_spaces, mtc_likelihoods, last_touch_likelihoods, ax, metric_label):\n",
    "  ax.plot(hash_spaces, mtc_likelihoods, label='core attribution', marker='o')\n",
    "  ax.plot(hash_spaces, last_touch_likelihoods, label='last touch attribution', marker='x')\n",
    "\n",
    "  ax.set_ylabel(metric_label, fontsize=14)\n",
    "  ax.set_xlabel('Size of features space')\n",
    "  ax.legend(loc='lower right')\n",
    "\n",
    "fig, axes = plt.subplots(1, 2, figsize=(10, 4), sharey=False)\n",
    "plot_likelihood_given_hashspace(metrics_df['hash_spaces'], metrics_df['mtc_likelihoods'], metrics_df['last_touch_likelihoods'], axes[0], \"'Additivity likelihood'\")\n",
    "axes[0].set_title('Likelihood on train set')\n",
    "plot_likelihood_given_hashspace(metrics_df['hash_spaces'], metrics_df['test_mtc_likelihoods'], metrics_df['test_last_touch_likelihoods'], axes[1], \"'Additivity likelihood'\")\n",
    "axes[1].set_title('Likelihood on test set')\n",
    "\n",
    "fig.tight_layout()"
   ]
  },
  {
   "cell_type": "code",
   "execution_count": null,
   "metadata": {},
   "outputs": [],
   "source": [
    "# Saving figures for paper\n",
    "fig, ax = plt.subplots(1, 1, figsize=(5, 3))\n",
    "plot_likelihood_given_hashspace(metrics_df['hash_spaces'], metrics_df['mtc_likelihoods'], metrics_df['last_touch_likelihoods'], ax, 'Additivity likelihood')\n",
    "fig.subplots_adjust(bottom=0.15, left=0.2, top=0.95, right=0.95)\n",
    "plt.savefig('additive_likelihood_given_features_space_on_train_set.pdf')\n",
    "plt.close(fig)\n",
    "\n",
    "fig, ax = plt.subplots(1, 1, figsize=(5, 3))\n",
    "plot_likelihood_given_hashspace(metrics_df['hash_spaces'], metrics_df['test_mtc_likelihoods'], metrics_df['test_last_touch_likelihoods'], ax, 'Additivity likelihood')\n",
    "fig.subplots_adjust(bottom=0.15, left=0.2, top=0.95, right=0.95)\n",
    "plt.savefig('additive_likelihood_given_features_space_on_test_set.pdf')\n",
    "plt.close(fig)"
   ]
  },
  {
   "cell_type": "code",
   "execution_count": null,
   "metadata": {},
   "outputs": [],
   "source": [
    "fig, axes = plt.subplots(1, 2, figsize=(10, 4), sharey=False)\n",
    "plot_likelihood_given_hashspace(metrics_df['hash_spaces'], metrics_df['mtc_precision'].apply(lambda x: x[-1]), metrics_df['last_touch_precision'].apply(lambda x: x[-1]), axes[0], 'Precision on top 10K timelines')\n",
    "axes[0].set_title(r'Precision on train set, $K=10.000$')\n",
    "plot_likelihood_given_hashspace(metrics_df['hash_spaces'], metrics_df['test_mtc_precision'].apply(lambda x: x[-1]), metrics_df['test_last_touch_precision'].apply(lambda x: x[-1]), axes[1], 'Precision on top 10K timelines')\n",
    "axes[1].set_title(r'Precision on test set, $K=10.000$')\n",
    "min_y_ax_test = 0.38\n",
    "#axes[1].set_ylim(min_y_ax_test, axes[1].get_ylim()[1])\n",
    "\n",
    "fig.tight_layout()"
   ]
  },
  {
   "cell_type": "code",
   "execution_count": null,
   "metadata": {},
   "outputs": [],
   "source": [
    "# Saving figures for paper\n",
    "fig, ax = plt.subplots(1, 1, figsize=(5, 3))\n",
    "plot_likelihood_given_hashspace(metrics_df['hash_spaces'], metrics_df['mtc_precision'].apply(lambda x: x[-1]), metrics_df['last_touch_precision'].apply(lambda x: x[-1]), ax, 'Precision on top 10K timelines')\n",
    "fig.subplots_adjust(bottom=0.15, left=0.2, top=0.95, right=0.95)\n",
    "plt.savefig('precision_10K_given_features_space_on_train_set.pdf')\n",
    "plt.close(fig)\n",
    "\n",
    "fig, ax = plt.subplots(1, 1, figsize=(5, 3))\n",
    "plot_likelihood_given_hashspace(metrics_df['hash_spaces'], metrics_df['test_mtc_precision'].apply(lambda x: x[-1]), metrics_df['test_last_touch_precision'].apply(lambda x: x[-1]), ax, 'Precision on top 10K timelines')\n",
    "ax.set_ylim(min_y_ax_test, ax.get_ylim()[1])\n",
    "fig.subplots_adjust(bottom=0.15, left=0.2, top=0.95, right=0.95)\n",
    "plt.savefig('precision_10K_given_features_space_on_test_set.pdf')\n",
    "plt.close(fig)"
   ]
  },
  {
   "cell_type": "code",
   "execution_count": null,
   "metadata": {},
   "outputs": [],
   "source": []
  },
  {
   "cell_type": "code",
   "execution_count": null,
   "metadata": {},
   "outputs": [],
   "source": [
    "conversion_proba_by_timeline = pd.read_csv(metrics_with_hashspace_path.replace('metrics_with_hashspace_C=1', f'conversion_proba_h={2**13}_lasttouch_test_C=1'), header=[0, 1])"
   ]
  },
  {
   "cell_type": "code",
   "execution_count": null,
   "metadata": {},
   "outputs": [],
   "source": [
    "conversion_proba_by_timeline.columns = [col if ('Unnamed' not  in col[1]) else col[0] for col in conversion_proba_by_timeline.columns ]"
   ]
  },
  {
   "cell_type": "code",
   "execution_count": null,
   "metadata": {},
   "outputs": [],
   "source": [
    "total_positives = conversion_proba_by_timeline[('uid_reward', 'first')].sum()\n",
    "precisions = conversion_proba_by_timeline['n_positive_in_top'] / (1 + np.arange(len(conversion_proba_by_timeline)))\n",
    "recalls = conversion_proba_by_timeline['n_positive_in_top'] / total_positives"
   ]
  },
  {
   "cell_type": "code",
   "execution_count": null,
   "metadata": {},
   "outputs": [],
   "source": []
  },
  {
   "cell_type": "markdown",
   "metadata": {},
   "source": [
    "### Precision - recall"
   ]
  },
  {
   "cell_type": "code",
   "execution_count": null,
   "metadata": {},
   "outputs": [],
   "source": [
    "def plot_precision_recall(mtc_recall, mtc_precision, last_touch_recall, last_touch_precision, ax):\n",
    "  ax.set_ylabel('Precision', fontsize=14)\n",
    "  ax.set_xlabel('Recall', fontsize=14)\n",
    "  ax.plot(mtc_recall, mtc_precision, label='core attribution')\n",
    "  ax.plot(last_touch_recall, last_touch_precision, label='last touch attribution')\n",
    "  ax.legend(loc='upper right')\n",
    "\n",
    "hash_space_metrics = metrics_df[metrics_df['hash_spaces'] == 2**13].iloc[0]\n",
    "  \n",
    "fig, axes = plt.subplots(1, 2, figsize=(10, 4), sharey=False)\n",
    "plot_precision_recall(hash_space_metrics['mtc_recall'], hash_space_metrics['mtc_precision'], hash_space_metrics['last_touch_recall'], hash_space_metrics['last_touch_precision'], axes[0])\n",
    "axes[0].set_title(r'Precision - Recall on train set')\n",
    "plot_precision_recall(hash_space_metrics['test_mtc_recall'], hash_space_metrics['test_mtc_precision'], hash_space_metrics['test_last_touch_recall'], hash_space_metrics['test_last_touch_precision'], axes[1])\n",
    "axes[1].set_title(r'Precision - Recall on test set')\n",
    "None"
   ]
  },
  {
   "cell_type": "code",
   "execution_count": null,
   "metadata": {},
   "outputs": [],
   "source": [
    "# Saving figures for paper\n",
    "fig, ax = plt.subplots(1, 1, figsize=(5, 3))\n",
    "plot_precision_recall(hash_space_metrics['mtc_recall'], hash_space_metrics['mtc_precision'], hash_space_metrics['last_touch_recall'], hash_space_metrics['last_touch_precision'], ax)\n",
    "fig.subplots_adjust(bottom=0.15, left=0.15, top=0.95, right=0.95)\n",
    "plt.savefig('precision_recall_on_train_set.pdf')\n",
    "plt.close(fig)\n",
    "\n",
    "fig, ax = plt.subplots(1, 1, figsize=(5, 3))\n",
    "plot_precision_recall(hash_space_metrics['test_mtc_recall'], hash_space_metrics['test_mtc_precision'], hash_space_metrics['test_last_touch_recall'], hash_space_metrics['test_last_touch_precision'], ax)\n",
    "fig.subplots_adjust(bottom=0.15, left=0.15, top=0.95, right=0.95)\n",
    "plt.savefig('precision_recall_on_test_set.pdf')\n",
    "plt.close(fig)"
   ]
  },
  {
   "cell_type": "code",
   "execution_count": null,
   "metadata": {},
   "outputs": [],
   "source": [
    "hash_space_metrics = metrics_df[metrics_df['hash_spaces'] == metrics_df['hash_spaces'].values[-1]].iloc[0]\n",
    "\n",
    "for setting in ['', 'test_']:\n",
    "    fig, axes = plt.subplots(2, 2, figsize=(8, 4))\n",
    "\n",
    "    axes[0, 0].set_title('precision')\n",
    "    axes[0, 0].plot(hash_space_metrics['tops'], hash_space_metrics[f'{setting}mtc_precision'], label='MTC')\n",
    "    axes[0, 0].plot(hash_space_metrics['tops'], hash_space_metrics[f'{setting}last_touch_precision'], label='last touch')\n",
    "    axes[0, 0].legend()\n",
    "\n",
    "    axes[0, 1].set_title('recall')\n",
    "    axes[0, 1].plot(hash_space_metrics['tops'], hash_space_metrics[f'{setting}mtc_recall'], label='MTC')\n",
    "    axes[0, 1].plot(hash_space_metrics['tops'], hash_space_metrics[f'{setting}last_touch_recall'], label='last touch')\n",
    "    axes[0, 1].legend()\n",
    "\n",
    "    axes[1, 0].set_title('precision - recall')\n",
    "    axes[1, 0].plot(hash_space_metrics[f'{setting}mtc_precision'], hash_space_metrics[f'{setting}mtc_recall'], label='MTC')\n",
    "    axes[1, 0].plot(hash_space_metrics[f'{setting}last_touch_precision'], hash_space_metrics[f'{setting}last_touch_recall'], label='last touch')\n",
    "    axes[1, 0].legend()\n",
    "\n",
    "    axes[1, 1].set_title('F1 score')\n",
    "    axes[1, 1].plot(hash_space_metrics['tops'], 2 * hash_space_metrics[f'{setting}mtc_precision'] * hash_space_metrics[f'{setting}mtc_recall'] / (hash_space_metrics[f'{setting}mtc_precision'] + hash_space_metrics[f'{setting}mtc_recall']), label='MTC')\n",
    "    axes[1, 1].plot(hash_space_metrics['tops'], 2 * hash_space_metrics[f'{setting}last_touch_precision'] * hash_space_metrics[f'{setting}last_touch_recall'] / (hash_space_metrics[f'{setting}last_touch_precision'] + hash_space_metrics[f'{setting}last_touch_recall']), label='last touch')\n",
    "    axes[1, 1].legend()\n",
    "\n",
    "    fig.tight_layout()"
   ]
  },
  {
   "cell_type": "markdown",
   "metadata": {
    "id": "oGD3MEoX6ziB"
   },
   "source": [
    "## Qualitative checks"
   ]
  },
  {
   "cell_type": "markdown",
   "metadata": {
    "id": "oJkbUvLSd7qm"
   },
   "source": [
    "### Time since last click"
   ]
  },
  {
   "cell_type": "code",
   "execution_count": null,
   "metadata": {
    "id": "rcLLmcmh4Xqz"
   },
   "outputs": [],
   "source": [
    "packed_hours = 12\n",
    "hour_since_last_click = (enriched_df['time_since_last_click'][is_training] / (packed_hours * 3600)).astype(int).values\n",
    "hour_since_last_click *= packed_hours\n",
    "\n",
    "tslc_mask = enriched_df['time_since_last_click'][is_training] > 0\n",
    "temp_df = pd.DataFrame()\n",
    "temp_df['last_touch_scores'] = last_touch_model.predict_proba(train_features[tslc_mask])[:, 1]\n",
    "temp_df['mtc_scores'] = mtc_model.predict_proba(train_features[tslc_mask])[:, 1]\n",
    "temp_df['scores_rel_diff'] = (temp_df['mtc_scores'] - temp_df['last_touch_scores']) / temp_df['last_touch_scores'] * 100\n",
    "temp_df['hour_since_last_click'] = hour_since_last_click[tslc_mask]\n",
    "temp_df = temp_df[temp_df['hour_since_last_click'] > 0]\n",
    "\n",
    "tslc_mean_scores_df = temp_df.groupby('hour_since_last_click').mean().reset_index()"
   ]
  },
  {
   "cell_type": "markdown",
   "metadata": {
    "id": "h-c73h_E64bG"
   },
   "source": [
    "### Number of clicks"
   ]
  },
  {
   "cell_type": "code",
   "execution_count": null,
   "metadata": {
    "id": "2cnf2p1d6-C0"
   },
   "outputs": [],
   "source": [
    "temp_df = pd.DataFrame()\n",
    "temp_df['last_touch_scores'] = last_touch_model.predict_proba(train_features)[:, 1]\n",
    "temp_df['mtc_scores'] = mtc_model.predict_proba(train_features)[:, 1]\n",
    "temp_df['scores_rel_diff'] = (temp_df['mtc_scores'] - temp_df['last_touch_scores']) / temp_df['last_touch_scores'] * 100\n",
    "temp_df['nb_clicks'] = enriched_df['nb_clicks'][is_training]\n",
    "nb_clicks_mean_scores_df = temp_df.groupby('nb_clicks').mean().reset_index()"
   ]
  },
  {
   "cell_type": "markdown",
   "metadata": {
    "id": "zzh5QPTP6-s6"
   },
   "source": [
    "### Plots"
   ]
  },
  {
   "cell_type": "code",
   "execution_count": null,
   "metadata": {
    "id": "XQ6yR3XL4Xvv"
   },
   "outputs": [],
   "source": [
    "tslc_mean_scores_file_path = os.path.join(cache_mtc_results_dir, f'sample_{debug_sample}', \"tslc_mean_scores_file.csv\")\n",
    "nb_clicks_mean_scores_file_path = os.path.join(cache_mtc_results_dir, f'sample_{debug_sample}', \"nb_clicks_mean_scores_file.csv\")"
   ]
  },
  {
   "cell_type": "code",
   "execution_count": null,
   "metadata": {
    "id": "4dzLi6Lp6dyJ"
   },
   "outputs": [],
   "source": [
    "tslc_mean_scores_df.to_csv(tslc_mean_scores_file_path)\n",
    "nb_clicks_mean_scores_df.to_csv(nb_clicks_mean_scores_file_path)"
   ]
  },
  {
   "cell_type": "code",
   "execution_count": null,
   "metadata": {},
   "outputs": [],
   "source": []
  },
  {
   "cell_type": "code",
   "execution_count": null,
   "metadata": {
    "id": "NQMlKzcH4X1f"
   },
   "outputs": [],
   "source": [
    "tslc_mean_scores_df = pd.read_csv(tslc_mean_scores_file_path)\n",
    "nb_clicks_mean_scores_df = pd.read_csv(nb_clicks_mean_scores_file_path)\n",
    "\n",
    "# rel_diff_label=r'$\\frac{\\mathrm{core\\ attr.} - \\mathrm{\\ last\\ touch\\ attr.}}{\\mathrm{last\\ touch\\ attr.}}$'\n",
    "rel_diff_label=r'$\\mathrm{Average} \\left( \\frac{\\nu^* - \\nu^{\\mathrm{LT}}}{\\nu^{\\mathrm{LT}}} \\right)$'\n",
    "\n",
    "def plot_time_since_last_click(tslc_mean_scores_df, ax):\n",
    "  n_hours = 700\n",
    "  ax.plot(\n",
    "    tslc_mean_scores_df['hour_since_last_click'][tslc_mean_scores_df['hour_since_last_click'] <= n_hours],\n",
    "    tslc_mean_scores_df['scores_rel_diff'][tslc_mean_scores_df['hour_since_last_click'] <= n_hours],\n",
    "    label=rel_diff_label\n",
    "  )\n",
    "  \n",
    "  ax.yaxis.set_major_formatter(PercentFormatter())\n",
    "  \n",
    "  ax.set_xlabel('Hours since last click')\n",
    "  ax.legend(fontsize=12)\n",
    "\n",
    "    \n",
    "def plot_nb_clicks(nb_clicks_mean_scores_df, ax):\n",
    "  keep_x_nclicks = 21\n",
    "  ax.plot(\n",
    "    nb_clicks_mean_scores_df['nb_clicks'][nb_clicks_mean_scores_df['nb_clicks'] <= keep_x_nclicks], \n",
    "    nb_clicks_mean_scores_df['scores_rel_diff'][nb_clicks_mean_scores_df['nb_clicks'] <= keep_x_nclicks], \n",
    "    label=rel_diff_label,\n",
    "  )\n",
    "  ax.set_xlabel('Number of clicks before display')\n",
    "  ax.yaxis.set_major_formatter(PercentFormatter())\n",
    "  ax.legend(fontsize=12)\n",
    "\n",
    "\n",
    "fig, axes = plt.subplots(1, 2, figsize=(8, 4))\n",
    "plot_time_since_last_click(tslc_mean_scores_df, axes[0])\n",
    "axes[0].set_ylabel('average valuation (relative diff)')\n",
    "plot_nb_clicks(nb_clicks_mean_scores_df, axes[1])\n",
    "\n",
    "fig.tight_layout()"
   ]
  },
  {
   "cell_type": "code",
   "execution_count": null,
   "metadata": {
    "id": "thZibfArAKv0"
   },
   "outputs": [],
   "source": [
    "# Saving figures for paper\n",
    "fig, ax = plt.subplots(1, 1, figsize=(5, 3))\n",
    "plot_time_since_last_click(tslc_mean_scores_df, ax)\n",
    "ax.set_ylabel('average valuation (relative diff)')\n",
    "fig.subplots_adjust(bottom=0.15, left=0.2, top=0.95, right=0.95)\n",
    "plt.savefig('relative_score_given_time_since_last_click.pdf')\n",
    "plt.close(fig)\n",
    "\n",
    "fig, ax = plt.subplots(1, 1, figsize=(5, 3))\n",
    "plot_nb_clicks(nb_clicks_mean_scores_df, ax)\n",
    "ax.set_ylabel('average valuation (relative diff)')\n",
    "fig.subplots_adjust(bottom=0.15, left=0.2, top=0.95, right=0.95)\n",
    "plt.savefig('relative_score_given_nb_clicks.pdf')\n",
    "plt.close(fig)"
   ]
  },
  {
   "cell_type": "markdown",
   "metadata": {
    "id": "sGjC6hNOjl7x"
   },
   "source": [
    "## Exponential Kernel"
   ]
  },
  {
   "cell_type": "code",
   "execution_count": null,
   "metadata": {
    "id": "631NnQHSBLHD"
   },
   "outputs": [],
   "source": [
    "%%time\n",
    "\n",
    "if False:\n",
    "  theta = 6.25e-6\n",
    "\n",
    "  scenario_valuations_with_exp_decays = []\n",
    "  mtc_likelihoods_with_exp_decays = []\n",
    "  test_mtc_likelihoods_with_exp_decays = []\n",
    "  current_model, current_labels = None, labels[is_training].astype(float).copy()\n",
    "\n",
    "  n_selected_displays = 10\n",
    "  selected_displays = (current_labels > 0) & (np.cumsum(current_labels) < n_selected_displays)\n",
    "  is_clicked, uids, total_uid_rewards = enriched_df['click'] > 0, enriched_df['uid'], enriched_df['total_uid_rewards']\n",
    "  kernel_values = np.exp(-theta * enriched_df[\"gap_click_sale\"])\n",
    "  for _ in range(10):\n",
    "    current_model, current_labels = run_one_iteration(\n",
    "        current_model, current_labels, train_features, is_clicked[is_training], uids[is_training], total_uid_rewards[is_training], kernel_values=kernel_values[is_training])\n",
    "    \n",
    "    mtc_likelihoods_with_exp_decays += [mtc_likelihood(current_model, train_features, uids[is_training], total_uid_rewards[is_training])]\n",
    "    test_mtc_likelihoods_with_exp_decays += [mtc_likelihood(current_model, features[~is_training], uids[~is_training], total_uid_rewards[~is_training])]\n",
    "    scenario_valuations_with_exp_decays += [{\n",
    "      f'Display {i}': current_model.predict_proba(feature)[0, 1]\n",
    "      for i, feature in enumerate(train_features[selected_displays])\n",
    "    }]\n",
    "\n",
    "  mtc_model_with_exp_decays = current_model"
   ]
  },
  {
   "cell_type": "code",
   "execution_count": null,
   "metadata": {
    "id": "EjmCuSwNBLNT"
   },
   "outputs": [],
   "source": [
    "if False:\n",
    "  fig, ax = plt.subplots(1, 1)\n",
    "  plot_scenario_valuation(scenario_valuations_with_exp_decays, ax)"
   ]
  },
  {
   "cell_type": "code",
   "execution_count": null,
   "metadata": {
    "id": "EiHpm2fPBLK8"
   },
   "outputs": [],
   "source": [
    " if False:\n",
    "  fig, axes = plt.subplots(1, 2, figsize=(10, 4))\n",
    "  plot_mtc_likelihood(mtc_likelihoods_with_exp_decays, axes[0])\n",
    "  plot_mtc_likelihood(test_mtc_likelihoods_with_exp_decays, axes[1])\n",
    "  fig.tight_layout()"
   ]
  },
  {
   "cell_type": "code",
   "execution_count": null,
   "metadata": {
    "id": "QDGVHkvswGoe"
   },
   "outputs": [],
   "source": []
  }
 ],
 "metadata": {
  "colab": {
   "collapsed_sections": [
    "LMK0QSGXgi2u",
    "sGjC6hNOjl7x"
   ],
   "name": "MTC.ipynb",
   "provenance": [],
   "toc_visible": true
  },
  "kernelspec": {
   "display_name": "Python 3",
   "language": "python",
   "name": "python3"
  },
  "language_info": {
   "codemirror_mode": {
    "name": "ipython",
    "version": 3
   },
   "file_extension": ".py",
   "mimetype": "text/x-python",
   "name": "python",
   "nbconvert_exporter": "python",
   "pygments_lexer": "ipython3",
   "version": "3.6.8"
  }
 },
 "nbformat": 4,
 "nbformat_minor": 4
}
